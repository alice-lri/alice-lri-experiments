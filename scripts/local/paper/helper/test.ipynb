{
 "cells": [
  {
   "cell_type": "code",
   "id": "initial_id",
   "metadata": {
    "collapsed": true,
    "ExecuteTime": {
     "end_time": "2025-10-01T11:29:26.216041Z",
     "start_time": "2025-10-01T11:29:25.842785Z"
    }
   },
   "source": [
    "import os\n",
    "import sqlite3\n",
    "\n",
    "import pandas as pd\n",
    "from alice_lri import Intrinsics\n",
    "from jaraco.functools import assign_params\n",
    "\n",
    "from scripts.common.helper.entities import IntrinsicsFrameResult, DatasetFrameGt, DatasetFrameScanlineGt, DatasetEntity\n",
    "from scripts.local.runtime import measure_rtst_times\n",
    "from scripts.local.paper.helper.utils import df_to_latex, write_paper_data, df_from_sql_table, compute_metrics\n",
    "\n",
    "from scripts.common.helper.entities import DatasetFrame\n",
    "from scripts.common.load_env import load_env\n",
    "load_env()\n",
    "DB_PATH = os.getenv(\"LOCAL_SQLITE_MASTER_DB\")\n",
    "robust_point_count_threshold = 64\n",
    "experiment_id = 38"
   ],
   "outputs": [],
   "execution_count": 1
  },
  {
   "metadata": {
    "ExecuteTime": {
     "end_time": "2025-10-01T11:29:59.393203Z",
     "start_time": "2025-10-01T11:29:26.218669Z"
    }
   },
   "cell_type": "code",
   "source": [
    "conn = sqlite3.connect(DB_PATH)\n",
    "datasets_df = df_from_sql_table(conn, DatasetEntity.__table__)\n",
    "dataset_frames_df = df_from_sql_table(conn, DatasetFrame.__table__)\n",
    "frame_results_df = df_from_sql_table(conn, IntrinsicsFrameResult.__table__, \"experiment_id == ?\", (experiment_id,))\n",
    "# frame_gt_df = df_from_sql_table(conn, DatasetFrameGt.__table__)\n",
    "frame_gt_df = df_from_sql_table(conn, \"dataset_frame_empirical\")\n",
    "# scanline_gt_df = df_from_sql_table(conn, DatasetFrameScanlineGt.__table__)\n",
    "scanline_gt_df = df_from_sql_table(conn, \"dataset_frame_scanline_info_empirical\")"
   ],
   "id": "36a0a88f34fee81e",
   "outputs": [],
   "execution_count": 2
  },
  {
   "metadata": {
    "ExecuteTime": {
     "end_time": "2025-10-01T11:33:50.895240Z",
     "start_time": "2025-10-01T11:33:50.809297Z"
    }
   },
   "cell_type": "code",
   "source": [
    "non_robust_frame_ids = scanline_gt_df[scanline_gt_df[\"points_count\"] < robust_point_count_threshold][\"dataset_frame_id\"].unique()\n",
    "\n",
    "frame_full_df = pd.merge(dataset_frames_df, frame_results_df, left_on=\"id\", right_on=\"dataset_frame_id\", how=\"inner\")\n",
    "frame_full_df = pd.merge(datasets_df, frame_full_df, left_on=\"id\", right_on=\"dataset_id\", how=\"inner\")\n",
    "frame_full_df = pd.merge(frame_full_df, frame_gt_df, on=\"dataset_frame_id\", how=\"inner\", suffixes=(\"_estimated\", \"_gt\"))\n",
    "frame_full_df[\"robust\"] = True\n",
    "frame_full_df.loc[frame_full_df[\"dataset_frame_id\"].isin(non_robust_frame_ids), \"robust\"] = False"
   ],
   "id": "32fcea037b0044d0",
   "outputs": [],
   "execution_count": 6
  },
  {
   "metadata": {
    "ExecuteTime": {
     "end_time": "2025-10-01T11:45:08.716856Z",
     "start_time": "2025-10-01T11:45:08.644610Z"
    }
   },
   "cell_type": "code",
   "source": [
    "scanline_metrics_all_df = frame_full_df.groupby([\"name\"])\\\n",
    "    .apply(lambda df: compute_metrics(df, \"scanlines_count_gt\", \"scanlines_count_estimated\"), include_groups=False)\\\n",
    "    .reset_index()\\\n",
    "    .assign(subset=\"All\")\n",
    "\n",
    "scanline_metrics_robust_only_df = frame_full_df[frame_full_df[\"robust\"]].groupby([\"name\"]) \\\n",
    "    .apply(lambda df: compute_metrics(df, \"scanlines_count_gt\", \"scanlines_count_estimated\"), include_groups=False) \\\n",
    "    .reset_index()\\\n",
    "    .assign(subset=\"n(l) >= 64\")\n",
    "\n",
    "scanline_metrics_df = pd.concat([scanline_metrics_all_df, scanline_metrics_robust_only_df], axis=0)\n",
    "scanline_metrics_df = scanline_metrics_df.sort_values(by=[\"name\", \"subset\"], ascending=[False, True])"
   ],
   "id": "246018ca17257810",
   "outputs": [],
   "execution_count": 25
  },
  {
   "metadata": {
    "ExecuteTime": {
     "end_time": "2025-10-01T11:45:11.868781Z",
     "start_time": "2025-10-01T11:45:11.856958Z"
    }
   },
   "cell_type": "code",
   "source": "scanline_metrics_df",
   "id": "effea24b98a2f6bc",
   "outputs": [
    {
     "data": {
      "text/plain": [
       "     name   samples  incorrect          oa          mp          mr  \\\n",
       "1   kitti   47885.0        0.0  100.000000  100.000000  100.000000   \n",
       "1   kitti   47543.0        0.0  100.000000  100.000000  100.000000   \n",
       "0  durlar  145916.0      130.0   99.910908   92.977032   93.668454   \n",
       "0  durlar  130757.0        0.0  100.000000  100.000000  100.000000   \n",
       "\n",
       "          mf1          wp          wr         wf1      subset  \n",
       "1  100.000000  100.000000  100.000000  100.000000         All  \n",
       "1  100.000000  100.000000  100.000000  100.000000  n(l) >= 64  \n",
       "0   93.307977   99.920694   99.910908   99.915145         All  \n",
       "0  100.000000  100.000000  100.000000  100.000000  n(l) >= 64  "
      ],
      "text/html": [
       "<div>\n",
       "<style scoped>\n",
       "    .dataframe tbody tr th:only-of-type {\n",
       "        vertical-align: middle;\n",
       "    }\n",
       "\n",
       "    .dataframe tbody tr th {\n",
       "        vertical-align: top;\n",
       "    }\n",
       "\n",
       "    .dataframe thead th {\n",
       "        text-align: right;\n",
       "    }\n",
       "</style>\n",
       "<table border=\"1\" class=\"dataframe\">\n",
       "  <thead>\n",
       "    <tr style=\"text-align: right;\">\n",
       "      <th></th>\n",
       "      <th>name</th>\n",
       "      <th>samples</th>\n",
       "      <th>incorrect</th>\n",
       "      <th>oa</th>\n",
       "      <th>mp</th>\n",
       "      <th>mr</th>\n",
       "      <th>mf1</th>\n",
       "      <th>wp</th>\n",
       "      <th>wr</th>\n",
       "      <th>wf1</th>\n",
       "      <th>subset</th>\n",
       "    </tr>\n",
       "  </thead>\n",
       "  <tbody>\n",
       "    <tr>\n",
       "      <th>1</th>\n",
       "      <td>kitti</td>\n",
       "      <td>47885.0</td>\n",
       "      <td>0.0</td>\n",
       "      <td>100.000000</td>\n",
       "      <td>100.000000</td>\n",
       "      <td>100.000000</td>\n",
       "      <td>100.000000</td>\n",
       "      <td>100.000000</td>\n",
       "      <td>100.000000</td>\n",
       "      <td>100.000000</td>\n",
       "      <td>All</td>\n",
       "    </tr>\n",
       "    <tr>\n",
       "      <th>1</th>\n",
       "      <td>kitti</td>\n",
       "      <td>47543.0</td>\n",
       "      <td>0.0</td>\n",
       "      <td>100.000000</td>\n",
       "      <td>100.000000</td>\n",
       "      <td>100.000000</td>\n",
       "      <td>100.000000</td>\n",
       "      <td>100.000000</td>\n",
       "      <td>100.000000</td>\n",
       "      <td>100.000000</td>\n",
       "      <td>n(l) &gt;= 64</td>\n",
       "    </tr>\n",
       "    <tr>\n",
       "      <th>0</th>\n",
       "      <td>durlar</td>\n",
       "      <td>145916.0</td>\n",
       "      <td>130.0</td>\n",
       "      <td>99.910908</td>\n",
       "      <td>92.977032</td>\n",
       "      <td>93.668454</td>\n",
       "      <td>93.307977</td>\n",
       "      <td>99.920694</td>\n",
       "      <td>99.910908</td>\n",
       "      <td>99.915145</td>\n",
       "      <td>All</td>\n",
       "    </tr>\n",
       "    <tr>\n",
       "      <th>0</th>\n",
       "      <td>durlar</td>\n",
       "      <td>130757.0</td>\n",
       "      <td>0.0</td>\n",
       "      <td>100.000000</td>\n",
       "      <td>100.000000</td>\n",
       "      <td>100.000000</td>\n",
       "      <td>100.000000</td>\n",
       "      <td>100.000000</td>\n",
       "      <td>100.000000</td>\n",
       "      <td>100.000000</td>\n",
       "      <td>n(l) &gt;= 64</td>\n",
       "    </tr>\n",
       "  </tbody>\n",
       "</table>\n",
       "</div>"
      ]
     },
     "execution_count": 26,
     "metadata": {},
     "output_type": "execute_result"
    }
   ],
   "execution_count": 26
  },
  {
   "metadata": {},
   "cell_type": "code",
   "outputs": [],
   "execution_count": null,
   "source": "",
   "id": "1ff87514c2a8f222"
  }
 ],
 "metadata": {
  "kernelspec": {
   "display_name": "Python 3",
   "language": "python",
   "name": "python3"
  },
  "language_info": {
   "codemirror_mode": {
    "name": "ipython",
    "version": 2
   },
   "file_extension": ".py",
   "mimetype": "text/x-python",
   "name": "python",
   "nbconvert_exporter": "python",
   "pygments_lexer": "ipython2",
   "version": "2.7.6"
  }
 },
 "nbformat": 4,
 "nbformat_minor": 5
}
