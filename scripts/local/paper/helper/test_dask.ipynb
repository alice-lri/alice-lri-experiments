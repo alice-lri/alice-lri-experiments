{
 "cells": [
  {
   "cell_type": "code",
   "id": "initial_id",
   "metadata": {
    "collapsed": true,
    "ExecuteTime": {
     "end_time": "2025-10-01T17:25:57.625108Z",
     "start_time": "2025-10-01T17:25:57.612637Z"
    }
   },
   "source": [
    "import os\n",
    "import sqlite3\n",
    "\n",
    "import dask.dataframe as dd\n",
    "import pandas as pd\n",
    "\n",
    "from scripts.common.helper.entities import DatasetFrame\n",
    "from scripts.common.helper.entities import IntrinsicsFrameResult, DatasetEntity\n",
    "from scripts.common.load_env import load_env\n",
    "from scripts.local.paper.helper.utils import df_from_sql_table, compute_metrics, \\\n",
    "    ddf_from_sqlite_table, metrics_from_labels\n",
    "\n",
    "load_env()\n",
    "DB_PATH = os.getenv(\"LOCAL_SQLITE_MASTER_DB\")\n",
    "robust_point_count_threshold = 64\n",
    "experiment_id = 38"
   ],
   "outputs": [],
   "execution_count": 9
  },
  {
   "metadata": {
    "ExecuteTime": {
     "end_time": "2025-10-01T17:14:47.778248Z",
     "start_time": "2025-10-01T17:14:12.455628Z"
    }
   },
   "cell_type": "code",
   "source": [
    "conn = sqlite3.connect(DB_PATH)\n",
    "datasets_df = ddf_from_sqlite_table(DB_PATH, DatasetEntity.__table__)\n",
    "dataset_frames_df = ddf_from_sqlite_table(DB_PATH, DatasetFrame.__table__)\n",
    "frame_results_df = ddf_from_sqlite_table(DB_PATH, IntrinsicsFrameResult.__table__)\n",
    "frame_results_df = frame_results_df[frame_results_df[\"experiment_id\"] == experiment_id]\n",
    "frame_gt_df = ddf_from_sqlite_table(DB_PATH, \"dataset_frame_empirical\")\n",
    "scanline_gt_df = ddf_from_sqlite_table(DB_PATH, \"dataset_frame_scanline_info_empirical\")\n",
    "scanline_gt_df = df_from_sql_table(conn, \"dataset_frame_scanline_info_empirical\")\n",
    "non_robust_frame_ids = scanline_gt_df[scanline_gt_df[\"points_count\"] < robust_point_count_threshold][\"dataset_frame_id\"].unique()\n",
    "scanline_gt_df = ddf_from_sqlite_table(DB_PATH, \"dataset_frame_scanline_info_empirical\")\n",
    "conn.close()"
   ],
   "id": "59ac56912033390a",
   "outputs": [],
   "execution_count": 2
  },
  {
   "metadata": {
    "ExecuteTime": {
     "end_time": "2025-10-01T17:43:27.597216Z",
     "start_time": "2025-10-01T17:43:27.586073Z"
    }
   },
   "cell_type": "code",
   "source": [
    "frame_results_df = frame_results_df.assign(frame_result_id=frame_results_df.index)\n",
    "frame_full_df = dd.merge(dataset_frames_df, frame_results_df, left_on=\"id\", right_on=\"dataset_frame_id\", how=\"inner\", suffixes=(\"_frame\", \"_frame_result\"))\n",
    "frame_full_df = dd.merge(datasets_df, frame_full_df, left_on=\"id\", right_on=\"dataset_id\", how=\"inner\")\n",
    "frame_full_df = dd.merge(frame_full_df, frame_gt_df, on=\"dataset_frame_id\", how=\"inner\", suffixes=(\"_estimated\", \"_gt\"))\n",
    "frame_full_df[\"robust\"] = ~frame_full_df[\"dataset_frame_id\"].isin(non_robust_frame_ids)"
   ],
   "id": "2b12be75b1417dcf",
   "outputs": [],
   "execution_count": 27
  },
  {
   "metadata": {
    "ExecuteTime": {
     "end_time": "2025-10-01T17:06:53.593368Z",
     "start_time": "2025-10-01T17:06:53.588438Z"
    }
   },
   "cell_type": "code",
   "source": [
    "def make_metrics_agg(true_col, pred_col):\n",
    "    def compute_group_metrics(df):\n",
    "        return compute_metrics(df, true_col, pred_col)\n",
    "    return compute_group_metrics"
   ],
   "id": "5969e256b688af9e",
   "outputs": [],
   "execution_count": 4
  },
  {
   "metadata": {
    "ExecuteTime": {
     "end_time": "2025-10-01T17:06:53.661215Z",
     "start_time": "2025-10-01T17:06:53.639193Z"
    }
   },
   "cell_type": "code",
   "source": [
    "metrics_agg = make_metrics_agg(\"scanlines_count_gt\", \"scanlines_count_estimated\")\n",
    "\n",
    "meta = pd.DataFrame({\n",
    "    'samples': pd.Series(dtype='int64'),\n",
    "    'incorrect': pd.Series(dtype='int64'),\n",
    "    'oa': pd.Series(dtype='float64'),\n",
    "    'mp': pd.Series(dtype='float64'),\n",
    "    'mr': pd.Series(dtype='float64'),\n",
    "    'mf1': pd.Series(dtype='float64'),\n",
    "    'wp': pd.Series(dtype='float64'),\n",
    "    'wr': pd.Series(dtype='float64'),\n",
    "    'wf1': pd.Series(dtype='float64')\n",
    "})\n",
    "\n",
    "scanline_metrics_all_df = frame_full_df.groupby([\"name\"]) \\\n",
    "    .apply(metrics_agg, meta=meta, include_groups=False) \\\n",
    "    .reset_index() \\\n",
    "    .assign(subset=\"All\")\n",
    "\n",
    "scanline_metrics_robust_only_df = frame_full_df[frame_full_df[\"robust\"]].groupby([\"name\"]) \\\n",
    "    .apply(metrics_agg, meta=meta, include_groups=False) \\\n",
    "    .reset_index() \\\n",
    "    .assign(subset=\"n(l) >= 64\")\n",
    "\n",
    "scanline_metrics_all_df = scanline_metrics_all_df.clear_divisions()\n",
    "scanline_metrics_robust_only_df = scanline_metrics_robust_only_df.clear_divisions()\n",
    "\n",
    "scanline_metrics_df = dd.concat([scanline_metrics_all_df, scanline_metrics_robust_only_df], axis=0)\n",
    "scanline_metrics_df = scanline_metrics_df.clear_divisions()\n",
    "scanline_metrics_df = scanline_metrics_df.sort_values(by=[\"name\", \"subset\"], ascending=[False, True])"
   ],
   "id": "246018ca17257810",
   "outputs": [],
   "execution_count": 5
  },
  {
   "metadata": {
    "ExecuteTime": {
     "end_time": "2025-10-01T17:06:58.649510Z",
     "start_time": "2025-10-01T17:06:53.700646Z"
    }
   },
   "cell_type": "code",
   "source": "scanline_metrics_df.compute()",
   "id": "effea24b98a2f6bc",
   "outputs": [
    {
     "data": {
      "text/plain": [
       "     name   samples  incorrect          oa          mp          mr  \\\n",
       "1   kitti   47885.0        0.0  100.000000  100.000000  100.000000   \n",
       "1   kitti   47543.0        0.0  100.000000  100.000000  100.000000   \n",
       "0  durlar  145916.0      130.0   99.910908   92.977032   93.668454   \n",
       "0  durlar  130757.0        0.0  100.000000  100.000000  100.000000   \n",
       "\n",
       "          mf1          wp          wr         wf1      subset  \n",
       "1  100.000000  100.000000  100.000000  100.000000         All  \n",
       "1  100.000000  100.000000  100.000000  100.000000  n(l) >= 64  \n",
       "0   93.307977   99.920694   99.910908   99.915145         All  \n",
       "0  100.000000  100.000000  100.000000  100.000000  n(l) >= 64  "
      ],
      "text/html": [
       "<div>\n",
       "<style scoped>\n",
       "    .dataframe tbody tr th:only-of-type {\n",
       "        vertical-align: middle;\n",
       "    }\n",
       "\n",
       "    .dataframe tbody tr th {\n",
       "        vertical-align: top;\n",
       "    }\n",
       "\n",
       "    .dataframe thead th {\n",
       "        text-align: right;\n",
       "    }\n",
       "</style>\n",
       "<table border=\"1\" class=\"dataframe\">\n",
       "  <thead>\n",
       "    <tr style=\"text-align: right;\">\n",
       "      <th></th>\n",
       "      <th>name</th>\n",
       "      <th>samples</th>\n",
       "      <th>incorrect</th>\n",
       "      <th>oa</th>\n",
       "      <th>mp</th>\n",
       "      <th>mr</th>\n",
       "      <th>mf1</th>\n",
       "      <th>wp</th>\n",
       "      <th>wr</th>\n",
       "      <th>wf1</th>\n",
       "      <th>subset</th>\n",
       "    </tr>\n",
       "  </thead>\n",
       "  <tbody>\n",
       "    <tr>\n",
       "      <th>1</th>\n",
       "      <td>kitti</td>\n",
       "      <td>47885.0</td>\n",
       "      <td>0.0</td>\n",
       "      <td>100.000000</td>\n",
       "      <td>100.000000</td>\n",
       "      <td>100.000000</td>\n",
       "      <td>100.000000</td>\n",
       "      <td>100.000000</td>\n",
       "      <td>100.000000</td>\n",
       "      <td>100.000000</td>\n",
       "      <td>All</td>\n",
       "    </tr>\n",
       "    <tr>\n",
       "      <th>1</th>\n",
       "      <td>kitti</td>\n",
       "      <td>47543.0</td>\n",
       "      <td>0.0</td>\n",
       "      <td>100.000000</td>\n",
       "      <td>100.000000</td>\n",
       "      <td>100.000000</td>\n",
       "      <td>100.000000</td>\n",
       "      <td>100.000000</td>\n",
       "      <td>100.000000</td>\n",
       "      <td>100.000000</td>\n",
       "      <td>n(l) &gt;= 64</td>\n",
       "    </tr>\n",
       "    <tr>\n",
       "      <th>0</th>\n",
       "      <td>durlar</td>\n",
       "      <td>145916.0</td>\n",
       "      <td>130.0</td>\n",
       "      <td>99.910908</td>\n",
       "      <td>92.977032</td>\n",
       "      <td>93.668454</td>\n",
       "      <td>93.307977</td>\n",
       "      <td>99.920694</td>\n",
       "      <td>99.910908</td>\n",
       "      <td>99.915145</td>\n",
       "      <td>All</td>\n",
       "    </tr>\n",
       "    <tr>\n",
       "      <th>0</th>\n",
       "      <td>durlar</td>\n",
       "      <td>130757.0</td>\n",
       "      <td>0.0</td>\n",
       "      <td>100.000000</td>\n",
       "      <td>100.000000</td>\n",
       "      <td>100.000000</td>\n",
       "      <td>100.000000</td>\n",
       "      <td>100.000000</td>\n",
       "      <td>100.000000</td>\n",
       "      <td>100.000000</td>\n",
       "      <td>n(l) &gt;= 64</td>\n",
       "    </tr>\n",
       "  </tbody>\n",
       "</table>\n",
       "</div>"
      ]
     },
     "execution_count": 6,
     "metadata": {},
     "output_type": "execute_result"
    }
   ],
   "execution_count": 6
  },
  {
   "metadata": {},
   "cell_type": "markdown",
   "source": "# Resolutions",
   "id": "d2910d99dec0407b"
  },
  {
   "metadata": {
    "ExecuteTime": {
     "end_time": "2025-10-01T17:30:51.142627Z",
     "start_time": "2025-10-01T17:30:51.140935Z"
    }
   },
   "cell_type": "code",
   "source": [
    "def compute_reduced_metrics(df, true_col, pred_col):\n",
    "    y_true = df[true_col].to_numpy()\n",
    "    y_pred = df[pred_col].to_numpy()\n",
    "\n",
    "    to_keep = [\"samples\", \"incorrect\", \"oa\"]\n",
    "    all_metrics = metrics_from_labels(y_true, y_pred, to_keep)\n",
    "    reduced_metrics = {k: all_metrics[k] for k in to_keep}\n",
    "\n",
    "    return pd.Series(reduced_metrics)\n",
    "\n",
    "def make_reduced_metrics_agg(true_col, pred_col):\n",
    "    def compute_group_metrics(df):\n",
    "        return compute_reduced_metrics(df, true_col, pred_col)\n",
    "    return compute_group_metrics"
   ],
   "id": "151501180e756dae",
   "outputs": [],
   "execution_count": 14
  },
  {
   "metadata": {
    "ExecuteTime": {
     "end_time": "2025-10-01T17:45:56.502678Z",
     "start_time": "2025-10-01T17:45:47.687094Z"
    }
   },
   "cell_type": "code",
   "source": [
    "scanline_results_df = ddf_from_sqlite_table(DB_PATH, \"intrinsics_result_scanline_info\")\n",
    "scanlines_full_df = dd.merge(frame_full_df, scanline_results_df, left_on=\"frame_result_id\", right_on=\"intrinsics_result_id\", how=\"inner\", suffixes=(\"_frame_result\", \"_scanline_result\"))\n",
    "scanlines_full_df = dd.merge(scanlines_full_df, scanline_gt_df, on=[\"dataset_frame_id\", \"scanline_idx\"], how=\"inner\", suffixes=(\"\", \"_gt\"))\n",
    "\n",
    "scanlines_full_df = scanlines_full_df[scanlines_full_df[\"experiment_id\"] == experiment_id]"
   ],
   "id": "d00227b53bd8a028",
   "outputs": [],
   "execution_count": 30
  },
  {
   "metadata": {
    "ExecuteTime": {
     "end_time": "2025-10-01T17:46:06.307404Z",
     "start_time": "2025-10-01T17:46:06.296413Z"
    }
   },
   "cell_type": "code",
   "source": [
    "reduced_meta = meta = pd.DataFrame({\n",
    "    'samples': pd.Series(dtype='int64'),\n",
    "    'incorrect': pd.Series(dtype='int64'),\n",
    "    'oa': pd.Series(dtype='float64'),\n",
    "})\n",
    "reduced_metrics_agg = make_reduced_metrics_agg(\"horizontal_resolution_gt\", \"horizontal_resolution\")\n",
    "\n",
    "resolution_metrics_all_df = scanlines_full_df.groupby([\"name\"]) \\\n",
    "    .apply(reduced_metrics_agg, meta=reduced_meta, include_groups=False) \\\n",
    "    .reset_index() \\\n",
    "    .assign(subset=\"All\")"
   ],
   "id": "767af91ffe91493e",
   "outputs": [],
   "execution_count": 32
  },
  {
   "metadata": {
    "ExecuteTime": {
     "end_time": "2025-10-01T17:54:36.200694Z",
     "start_time": "2025-10-01T17:46:20.825116Z"
    }
   },
   "cell_type": "code",
   "source": "resolution_metrics_all_df.compute()",
   "id": "b063f41d6590af41",
   "outputs": [
    {
     "ename": "KeyboardInterrupt",
     "evalue": "",
     "output_type": "error",
     "traceback": [
      "\u001B[31m---------------------------------------------------------------------------\u001B[39m",
      "\u001B[31mKeyboardInterrupt\u001B[39m                         Traceback (most recent call last)",
      "\u001B[36mCell\u001B[39m\u001B[36m \u001B[39m\u001B[32mIn[33]\u001B[39m\u001B[32m, line 1\u001B[39m\n\u001B[32m----> \u001B[39m\u001B[32m1\u001B[39m \u001B[43mresolution_metrics_all_df\u001B[49m\u001B[43m.\u001B[49m\u001B[43mcompute\u001B[49m\u001B[43m(\u001B[49m\u001B[43m)\u001B[49m\n",
      "\u001B[36mFile \u001B[39m\u001B[32m~/.miniconda3/envs/alice_lri_env/lib/python3.12/site-packages/dask/base.py:373\u001B[39m, in \u001B[36mDaskMethodsMixin.compute\u001B[39m\u001B[34m(self, **kwargs)\u001B[39m\n\u001B[32m    349\u001B[39m \u001B[38;5;28;01mdef\u001B[39;00m\u001B[38;5;250m \u001B[39m\u001B[34mcompute\u001B[39m(\u001B[38;5;28mself\u001B[39m, **kwargs):\n\u001B[32m    350\u001B[39m \u001B[38;5;250m    \u001B[39m\u001B[33;03m\"\"\"Compute this dask collection\u001B[39;00m\n\u001B[32m    351\u001B[39m \n\u001B[32m    352\u001B[39m \u001B[33;03m    This turns a lazy Dask collection into its in-memory equivalent.\u001B[39;00m\n\u001B[32m   (...)\u001B[39m\u001B[32m    371\u001B[39m \u001B[33;03m    dask.compute\u001B[39;00m\n\u001B[32m    372\u001B[39m \u001B[33;03m    \"\"\"\u001B[39;00m\n\u001B[32m--> \u001B[39m\u001B[32m373\u001B[39m     (result,) = \u001B[43mcompute\u001B[49m\u001B[43m(\u001B[49m\u001B[38;5;28;43mself\u001B[39;49m\u001B[43m,\u001B[49m\u001B[43m \u001B[49m\u001B[43mtraverse\u001B[49m\u001B[43m=\u001B[49m\u001B[38;5;28;43;01mFalse\u001B[39;49;00m\u001B[43m,\u001B[49m\u001B[43m \u001B[49m\u001B[43m*\u001B[49m\u001B[43m*\u001B[49m\u001B[43mkwargs\u001B[49m\u001B[43m)\u001B[49m\n\u001B[32m    374\u001B[39m     \u001B[38;5;28;01mreturn\u001B[39;00m result\n",
      "\u001B[36mFile \u001B[39m\u001B[32m~/.miniconda3/envs/alice_lri_env/lib/python3.12/site-packages/dask/base.py:681\u001B[39m, in \u001B[36mcompute\u001B[39m\u001B[34m(traverse, optimize_graph, scheduler, get, *args, **kwargs)\u001B[39m\n\u001B[32m    678\u001B[39m     expr = expr.optimize()\n\u001B[32m    679\u001B[39m     keys = \u001B[38;5;28mlist\u001B[39m(flatten(expr.__dask_keys__()))\n\u001B[32m--> \u001B[39m\u001B[32m681\u001B[39m     results = \u001B[43mschedule\u001B[49m\u001B[43m(\u001B[49m\u001B[43mexpr\u001B[49m\u001B[43m,\u001B[49m\u001B[43m \u001B[49m\u001B[43mkeys\u001B[49m\u001B[43m,\u001B[49m\u001B[43m \u001B[49m\u001B[43m*\u001B[49m\u001B[43m*\u001B[49m\u001B[43mkwargs\u001B[49m\u001B[43m)\u001B[49m\n\u001B[32m    683\u001B[39m \u001B[38;5;28;01mreturn\u001B[39;00m repack(results)\n",
      "\u001B[36mFile \u001B[39m\u001B[32m~/.miniconda3/envs/alice_lri_env/lib/python3.12/queue.py:171\u001B[39m, in \u001B[36mQueue.get\u001B[39m\u001B[34m(self, block, timeout)\u001B[39m\n\u001B[32m    169\u001B[39m \u001B[38;5;28;01melif\u001B[39;00m timeout \u001B[38;5;129;01mis\u001B[39;00m \u001B[38;5;28;01mNone\u001B[39;00m:\n\u001B[32m    170\u001B[39m     \u001B[38;5;28;01mwhile\u001B[39;00m \u001B[38;5;129;01mnot\u001B[39;00m \u001B[38;5;28mself\u001B[39m._qsize():\n\u001B[32m--> \u001B[39m\u001B[32m171\u001B[39m         \u001B[38;5;28;43mself\u001B[39;49m\u001B[43m.\u001B[49m\u001B[43mnot_empty\u001B[49m\u001B[43m.\u001B[49m\u001B[43mwait\u001B[49m\u001B[43m(\u001B[49m\u001B[43m)\u001B[49m\n\u001B[32m    172\u001B[39m \u001B[38;5;28;01melif\u001B[39;00m timeout < \u001B[32m0\u001B[39m:\n\u001B[32m    173\u001B[39m     \u001B[38;5;28;01mraise\u001B[39;00m \u001B[38;5;167;01mValueError\u001B[39;00m(\u001B[33m\"\u001B[39m\u001B[33m'\u001B[39m\u001B[33mtimeout\u001B[39m\u001B[33m'\u001B[39m\u001B[33m must be a non-negative number\u001B[39m\u001B[33m\"\u001B[39m)\n",
      "\u001B[36mFile \u001B[39m\u001B[32m~/.miniconda3/envs/alice_lri_env/lib/python3.12/threading.py:355\u001B[39m, in \u001B[36mCondition.wait\u001B[39m\u001B[34m(self, timeout)\u001B[39m\n\u001B[32m    353\u001B[39m \u001B[38;5;28;01mtry\u001B[39;00m:    \u001B[38;5;66;03m# restore state no matter what (e.g., KeyboardInterrupt)\u001B[39;00m\n\u001B[32m    354\u001B[39m     \u001B[38;5;28;01mif\u001B[39;00m timeout \u001B[38;5;129;01mis\u001B[39;00m \u001B[38;5;28;01mNone\u001B[39;00m:\n\u001B[32m--> \u001B[39m\u001B[32m355\u001B[39m         \u001B[43mwaiter\u001B[49m\u001B[43m.\u001B[49m\u001B[43macquire\u001B[49m\u001B[43m(\u001B[49m\u001B[43m)\u001B[49m\n\u001B[32m    356\u001B[39m         gotit = \u001B[38;5;28;01mTrue\u001B[39;00m\n\u001B[32m    357\u001B[39m     \u001B[38;5;28;01melse\u001B[39;00m:\n",
      "\u001B[31mKeyboardInterrupt\u001B[39m: "
     ]
    }
   ],
   "execution_count": 33
  },
  {
   "metadata": {
    "ExecuteTime": {
     "end_time": "2025-10-01T17:46:02.465163Z",
     "start_time": "2025-10-01T17:46:02.460127Z"
    }
   },
   "cell_type": "code",
   "source": "print(scanlines_full_df.columns)",
   "id": "d5606a67b6f10a78",
   "outputs": [
    {
     "name": "stdout",
     "output_type": "stream",
     "text": [
      "Index(['name', 'laser_count', 'dataset_id', 'relative_path', 'experiment_id',\n",
      "       'dataset_frame_id', 'points_count_estimated',\n",
      "       'scanlines_count_estimated', 'vertical_iterations', 'unassigned_points',\n",
      "       'end_reason', 'frame_result_id', 'points_count_gt',\n",
      "       'scanlines_count_gt', 'robust', 'intrinsics_result_id', 'scanline_idx',\n",
      "       'points_count', 'vertical_offset', 'vertical_angle',\n",
      "       'vertical_ci_offset_lower', 'vertical_ci_offset_upper',\n",
      "       'vertical_ci_angle_lower', 'vertical_ci_angle_upper',\n",
      "       'vertical_theoretical_angle_bottom_lower',\n",
      "       'vertical_theoretical_angle_bottom_upper',\n",
      "       'vertical_theoretical_angle_top_lower',\n",
      "       'vertical_theoretical_angle_top_upper', 'vertical_uncertainty',\n",
      "       'vertical_last_scanline', 'vertical_hough_votes', 'vertical_hough_hash',\n",
      "       'horizontal_offset', 'horizontal_resolution', 'horizontal_heuristic',\n",
      "       'horizontal_angle_offset', 'laser_idx', 'points_count_gt',\n",
      "       'vertical_offset_gt', 'vertical_angle_gt', 'horizontal_offset_gt',\n",
      "       'horizontal_resolution_gt', 'horizontal_angle_offset_gt'],\n",
      "      dtype='object')\n"
     ]
    }
   ],
   "execution_count": 31
  }
 ],
 "metadata": {
  "kernelspec": {
   "display_name": "Python 3",
   "language": "python",
   "name": "python3"
  },
  "language_info": {
   "codemirror_mode": {
    "name": "ipython",
    "version": 2
   },
   "file_extension": ".py",
   "mimetype": "text/x-python",
   "name": "python",
   "nbconvert_exporter": "python",
   "pygments_lexer": "ipython2",
   "version": "2.7.6"
  }
 },
 "nbformat": 4,
 "nbformat_minor": 5
}
